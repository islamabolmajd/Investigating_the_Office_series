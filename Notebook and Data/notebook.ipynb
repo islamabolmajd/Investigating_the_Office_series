{
 "cells": [
  {
   "cell_type": "markdown",
   "metadata": {
    "dc": {
     "key": "4"
    },
    "deletable": false,
    "editable": false,
    "run_control": {
     "frozen": true
    },
    "tags": [
     "context"
    ]
   },
   "source": [
    "## 1. Welcome!\n",
    "<p><img src=\"https://assets.datacamp.com/production/project_1170/img/office_cast.jpeg\" alt=\"Markdown\">.</p>\n",
    "<p><strong>The Office!</strong> What started as a British mockumentary series about office culture in 2001 has since spawned ten other variants across the world, including an Israeli version (2010-13), a Hindi version (2019-), and even a French Canadian variant (2006-2007). Of all these iterations (including the original), the American series has been the longest-running, spanning 201 episodes over nine seasons.</p>\n",
    "<p>In this notebook, we will take a look at a dataset of The Office episodes, and try to understand how the popularity and quality of the series varied over time. To do so, we will use the following dataset: <code>datasets/office_episodes.csv</code>, which was downloaded from Kaggle <a href=\"https://www.kaggle.com/nehaprabhavalkar/the-office-dataset\">here</a>.</p>\n",
    "<p>This dataset contains information on a variety of characteristics of each episode. In detail, these are:\n",
    "<br></p>\n",
    "<div style=\"background-color: #efebe4; color: #05192d; text-align:left; vertical-align: middle; padding: 15px 25px 15px 25px; line-height: 1.6;\">\n",
    "    <div style=\"font-size:20px\"><b>datasets/office_episodes.csv</b></div>\n",
    "<ul>\n",
    "    <li><b>episode_number:</b> Canonical episode number.</li>\n",
    "    <li><b>season:</b> Season in which the episode appeared.</li>\n",
    "    <li><b>episode_title:</b> Title of the episode.</li>\n",
    "    <li><b>description:</b> Description of the episode.</li>\n",
    "    <li><b>ratings:</b> Average IMDB rating.</li>\n",
    "    <li><b>votes:</b> Number of votes.</li>\n",
    "    <li><b>viewership_mil:</b> Number of US viewers in millions.</li>\n",
    "    <li><b>duration:</b> Duration in number of minutes.</li>\n",
    "    <li><b>release_date:</b> Airdate.</li>\n",
    "    <li><b>guest_stars:</b> Guest stars in the episode (if any).</li>\n",
    "    <li><b>director:</b> Director of the episode.</li>\n",
    "    <li><b>writers:</b> Writers of the episode.</li>\n",
    "    <li><b>has_guests:</b> True/False column for whether the episode contained guest stars.</li>\n",
    "    <li><b>scaled_ratings:</b> The ratings scaled from 0 (worst-reviewed) to 1 (best-reviewed).</li>\n",
    "</ul>\n",
    "    </div>"
   ]
  },
  {
   "cell_type": "code",
   "execution_count": 5,
   "metadata": {
    "dc": {
     "key": "4"
    },
    "tags": [
     "sample_code"
    ]
   },
   "outputs": [],
   "source": [
    "# importing necessesary libraries\n",
    "import pandas as pd\n",
    "import matplotlib.pyplot as plt"
   ]
  },
  {
   "cell_type": "code",
   "execution_count": 24,
   "metadata": {},
   "outputs": [
    {
     "data": {
      "text/html": [
       "<div>\n",
       "<style scoped>\n",
       "    .dataframe tbody tr th:only-of-type {\n",
       "        vertical-align: middle;\n",
       "    }\n",
       "\n",
       "    .dataframe tbody tr th {\n",
       "        vertical-align: top;\n",
       "    }\n",
       "\n",
       "    .dataframe thead th {\n",
       "        text-align: right;\n",
       "    }\n",
       "</style>\n",
       "<table border=\"1\" class=\"dataframe\">\n",
       "  <thead>\n",
       "    <tr style=\"text-align: right;\">\n",
       "      <th></th>\n",
       "      <th>episode_number</th>\n",
       "      <th>season</th>\n",
       "      <th>episode_title</th>\n",
       "      <th>description</th>\n",
       "      <th>ratings</th>\n",
       "      <th>votes</th>\n",
       "      <th>viewership_mil</th>\n",
       "      <th>duration</th>\n",
       "      <th>release_date</th>\n",
       "      <th>guest_stars</th>\n",
       "      <th>director</th>\n",
       "      <th>writers</th>\n",
       "      <th>has_guests</th>\n",
       "      <th>scaled_ratings</th>\n",
       "    </tr>\n",
       "  </thead>\n",
       "  <tbody>\n",
       "    <tr>\n",
       "      <th>0</th>\n",
       "      <td>0</td>\n",
       "      <td>1</td>\n",
       "      <td>Pilot</td>\n",
       "      <td>The premiere episode introduces the boss and s...</td>\n",
       "      <td>7.5</td>\n",
       "      <td>4936</td>\n",
       "      <td>11.2</td>\n",
       "      <td>23</td>\n",
       "      <td>2005-03-24</td>\n",
       "      <td>NaN</td>\n",
       "      <td>Ken Kwapis</td>\n",
       "      <td>Ricky Gervais |Stephen Merchant and Greg Daniels</td>\n",
       "      <td>False</td>\n",
       "      <td>0.28125</td>\n",
       "    </tr>\n",
       "    <tr>\n",
       "      <th>1</th>\n",
       "      <td>1</td>\n",
       "      <td>1</td>\n",
       "      <td>Diversity Day</td>\n",
       "      <td>Michael's off color remark puts a sensitivity ...</td>\n",
       "      <td>8.3</td>\n",
       "      <td>4801</td>\n",
       "      <td>6.0</td>\n",
       "      <td>23</td>\n",
       "      <td>2005-03-29</td>\n",
       "      <td>NaN</td>\n",
       "      <td>Ken Kwapis</td>\n",
       "      <td>B. J. Novak</td>\n",
       "      <td>False</td>\n",
       "      <td>0.53125</td>\n",
       "    </tr>\n",
       "    <tr>\n",
       "      <th>2</th>\n",
       "      <td>2</td>\n",
       "      <td>1</td>\n",
       "      <td>Health Care</td>\n",
       "      <td>Michael leaves Dwight in charge of picking the...</td>\n",
       "      <td>7.8</td>\n",
       "      <td>4024</td>\n",
       "      <td>5.8</td>\n",
       "      <td>22</td>\n",
       "      <td>2005-04-05</td>\n",
       "      <td>NaN</td>\n",
       "      <td>Ken Whittingham</td>\n",
       "      <td>Paul Lieberstein</td>\n",
       "      <td>False</td>\n",
       "      <td>0.37500</td>\n",
       "    </tr>\n",
       "    <tr>\n",
       "      <th>3</th>\n",
       "      <td>3</td>\n",
       "      <td>1</td>\n",
       "      <td>The Alliance</td>\n",
       "      <td>Just for a laugh, Jim agrees to an alliance wi...</td>\n",
       "      <td>8.1</td>\n",
       "      <td>3915</td>\n",
       "      <td>5.4</td>\n",
       "      <td>23</td>\n",
       "      <td>2005-04-12</td>\n",
       "      <td>NaN</td>\n",
       "      <td>Bryan Gordon</td>\n",
       "      <td>Michael Schur</td>\n",
       "      <td>False</td>\n",
       "      <td>0.46875</td>\n",
       "    </tr>\n",
       "    <tr>\n",
       "      <th>4</th>\n",
       "      <td>4</td>\n",
       "      <td>1</td>\n",
       "      <td>Basketball</td>\n",
       "      <td>Michael and his staff challenge the warehouse ...</td>\n",
       "      <td>8.4</td>\n",
       "      <td>4294</td>\n",
       "      <td>5.0</td>\n",
       "      <td>23</td>\n",
       "      <td>2005-04-19</td>\n",
       "      <td>NaN</td>\n",
       "      <td>Greg Daniels</td>\n",
       "      <td>Greg Daniels</td>\n",
       "      <td>False</td>\n",
       "      <td>0.56250</td>\n",
       "    </tr>\n",
       "  </tbody>\n",
       "</table>\n",
       "</div>"
      ],
      "text/plain": [
       "   episode_number  season  episode_title  \\\n",
       "0               0       1          Pilot   \n",
       "1               1       1  Diversity Day   \n",
       "2               2       1    Health Care   \n",
       "3               3       1   The Alliance   \n",
       "4               4       1     Basketball   \n",
       "\n",
       "                                         description  ratings  votes  \\\n",
       "0  The premiere episode introduces the boss and s...      7.5   4936   \n",
       "1  Michael's off color remark puts a sensitivity ...      8.3   4801   \n",
       "2  Michael leaves Dwight in charge of picking the...      7.8   4024   \n",
       "3  Just for a laugh, Jim agrees to an alliance wi...      8.1   3915   \n",
       "4  Michael and his staff challenge the warehouse ...      8.4   4294   \n",
       "\n",
       "   viewership_mil  duration release_date guest_stars         director  \\\n",
       "0            11.2        23   2005-03-24         NaN       Ken Kwapis   \n",
       "1             6.0        23   2005-03-29         NaN       Ken Kwapis   \n",
       "2             5.8        22   2005-04-05         NaN  Ken Whittingham   \n",
       "3             5.4        23   2005-04-12         NaN     Bryan Gordon   \n",
       "4             5.0        23   2005-04-19         NaN     Greg Daniels   \n",
       "\n",
       "                                            writers  has_guests  \\\n",
       "0  Ricky Gervais |Stephen Merchant and Greg Daniels       False   \n",
       "1                                       B. J. Novak       False   \n",
       "2                                  Paul Lieberstein       False   \n",
       "3                                     Michael Schur       False   \n",
       "4                                      Greg Daniels       False   \n",
       "\n",
       "   scaled_ratings  \n",
       "0         0.28125  \n",
       "1         0.53125  \n",
       "2         0.37500  \n",
       "3         0.46875  \n",
       "4         0.56250  "
      ]
     },
     "execution_count": 24,
     "metadata": {},
     "output_type": "execute_result"
    }
   ],
   "source": [
    "episodes = pd.read_csv('office_episodes.csv') #importing the dataset\n",
    "episodes.head()"
   ]
  },
  {
   "cell_type": "code",
   "execution_count": 8,
   "metadata": {},
   "outputs": [],
   "source": [
    "plt.rcParams['figure.figsize'] = [11, 7] #setting the figure size"
   ]
  },
  {
   "cell_type": "code",
   "execution_count": 9,
   "metadata": {},
   "outputs": [],
   "source": [
    "# mapping different rating values to certain colors\n",
    "cols=[] #instantiating the colors list to be added to\n",
    "\n",
    "for ind , row in episodes.iterrows() :\n",
    "    if row['scaled_ratings'] < 0.25 :\n",
    "        cols.append('red')\n",
    "    elif row['scaled_ratings'] < 0.50 :\n",
    "        cols.append('orange')\n",
    "    elif row['scaled_ratings'] <0.75 :\n",
    "        cols.append('lightgreen')\n",
    "    else :\n",
    "        cols.append('darkgreen')"
   ]
  },
  {
   "cell_type": "code",
   "execution_count": 26,
   "metadata": {},
   "outputs": [],
   "source": [
    "episodes['colors']=cols  # adding the colors list as column to the dataset      "
   ]
  },
  {
   "cell_type": "code",
   "execution_count": 27,
   "metadata": {},
   "outputs": [],
   "source": [
    "# mapping the episodes with guests to be in different sizes\n",
    "size=[] #instantiating the size list to be added to\n",
    "for ind , row in episodes.iterrows():\n",
    "        if row['has_guests'] == True :\n",
    "         size.append(250)\n",
    "        else:\n",
    "            size.append(25)"
   ]
  },
  {
   "cell_type": "code",
   "execution_count": 28,
   "metadata": {},
   "outputs": [
    {
     "data": {
      "text/html": [
       "<div>\n",
       "<style scoped>\n",
       "    .dataframe tbody tr th:only-of-type {\n",
       "        vertical-align: middle;\n",
       "    }\n",
       "\n",
       "    .dataframe tbody tr th {\n",
       "        vertical-align: top;\n",
       "    }\n",
       "\n",
       "    .dataframe thead th {\n",
       "        text-align: right;\n",
       "    }\n",
       "</style>\n",
       "<table border=\"1\" class=\"dataframe\">\n",
       "  <thead>\n",
       "    <tr style=\"text-align: right;\">\n",
       "      <th></th>\n",
       "      <th>episode_number</th>\n",
       "      <th>season</th>\n",
       "      <th>episode_title</th>\n",
       "      <th>description</th>\n",
       "      <th>ratings</th>\n",
       "      <th>votes</th>\n",
       "      <th>viewership_mil</th>\n",
       "      <th>duration</th>\n",
       "      <th>release_date</th>\n",
       "      <th>guest_stars</th>\n",
       "      <th>director</th>\n",
       "      <th>writers</th>\n",
       "      <th>has_guests</th>\n",
       "      <th>scaled_ratings</th>\n",
       "      <th>sizes</th>\n",
       "      <th>colors</th>\n",
       "    </tr>\n",
       "  </thead>\n",
       "  <tbody>\n",
       "    <tr>\n",
       "      <th>0</th>\n",
       "      <td>0</td>\n",
       "      <td>1</td>\n",
       "      <td>Pilot</td>\n",
       "      <td>The premiere episode introduces the boss and s...</td>\n",
       "      <td>7.5</td>\n",
       "      <td>4936</td>\n",
       "      <td>11.2</td>\n",
       "      <td>23</td>\n",
       "      <td>2005-03-24</td>\n",
       "      <td>NaN</td>\n",
       "      <td>Ken Kwapis</td>\n",
       "      <td>Ricky Gervais |Stephen Merchant and Greg Daniels</td>\n",
       "      <td>False</td>\n",
       "      <td>0.28125</td>\n",
       "      <td>25</td>\n",
       "      <td>orange</td>\n",
       "    </tr>\n",
       "    <tr>\n",
       "      <th>1</th>\n",
       "      <td>1</td>\n",
       "      <td>1</td>\n",
       "      <td>Diversity Day</td>\n",
       "      <td>Michael's off color remark puts a sensitivity ...</td>\n",
       "      <td>8.3</td>\n",
       "      <td>4801</td>\n",
       "      <td>6.0</td>\n",
       "      <td>23</td>\n",
       "      <td>2005-03-29</td>\n",
       "      <td>NaN</td>\n",
       "      <td>Ken Kwapis</td>\n",
       "      <td>B. J. Novak</td>\n",
       "      <td>False</td>\n",
       "      <td>0.53125</td>\n",
       "      <td>25</td>\n",
       "      <td>lightgreen</td>\n",
       "    </tr>\n",
       "    <tr>\n",
       "      <th>2</th>\n",
       "      <td>2</td>\n",
       "      <td>1</td>\n",
       "      <td>Health Care</td>\n",
       "      <td>Michael leaves Dwight in charge of picking the...</td>\n",
       "      <td>7.8</td>\n",
       "      <td>4024</td>\n",
       "      <td>5.8</td>\n",
       "      <td>22</td>\n",
       "      <td>2005-04-05</td>\n",
       "      <td>NaN</td>\n",
       "      <td>Ken Whittingham</td>\n",
       "      <td>Paul Lieberstein</td>\n",
       "      <td>False</td>\n",
       "      <td>0.37500</td>\n",
       "      <td>25</td>\n",
       "      <td>orange</td>\n",
       "    </tr>\n",
       "    <tr>\n",
       "      <th>3</th>\n",
       "      <td>3</td>\n",
       "      <td>1</td>\n",
       "      <td>The Alliance</td>\n",
       "      <td>Just for a laugh, Jim agrees to an alliance wi...</td>\n",
       "      <td>8.1</td>\n",
       "      <td>3915</td>\n",
       "      <td>5.4</td>\n",
       "      <td>23</td>\n",
       "      <td>2005-04-12</td>\n",
       "      <td>NaN</td>\n",
       "      <td>Bryan Gordon</td>\n",
       "      <td>Michael Schur</td>\n",
       "      <td>False</td>\n",
       "      <td>0.46875</td>\n",
       "      <td>25</td>\n",
       "      <td>orange</td>\n",
       "    </tr>\n",
       "    <tr>\n",
       "      <th>4</th>\n",
       "      <td>4</td>\n",
       "      <td>1</td>\n",
       "      <td>Basketball</td>\n",
       "      <td>Michael and his staff challenge the warehouse ...</td>\n",
       "      <td>8.4</td>\n",
       "      <td>4294</td>\n",
       "      <td>5.0</td>\n",
       "      <td>23</td>\n",
       "      <td>2005-04-19</td>\n",
       "      <td>NaN</td>\n",
       "      <td>Greg Daniels</td>\n",
       "      <td>Greg Daniels</td>\n",
       "      <td>False</td>\n",
       "      <td>0.56250</td>\n",
       "      <td>25</td>\n",
       "      <td>lightgreen</td>\n",
       "    </tr>\n",
       "  </tbody>\n",
       "</table>\n",
       "</div>"
      ],
      "text/plain": [
       "   episode_number  season  episode_title  \\\n",
       "0               0       1          Pilot   \n",
       "1               1       1  Diversity Day   \n",
       "2               2       1    Health Care   \n",
       "3               3       1   The Alliance   \n",
       "4               4       1     Basketball   \n",
       "\n",
       "                                         description  ratings  votes  \\\n",
       "0  The premiere episode introduces the boss and s...      7.5   4936   \n",
       "1  Michael's off color remark puts a sensitivity ...      8.3   4801   \n",
       "2  Michael leaves Dwight in charge of picking the...      7.8   4024   \n",
       "3  Just for a laugh, Jim agrees to an alliance wi...      8.1   3915   \n",
       "4  Michael and his staff challenge the warehouse ...      8.4   4294   \n",
       "\n",
       "   viewership_mil  duration release_date guest_stars         director  \\\n",
       "0            11.2        23   2005-03-24         NaN       Ken Kwapis   \n",
       "1             6.0        23   2005-03-29         NaN       Ken Kwapis   \n",
       "2             5.8        22   2005-04-05         NaN  Ken Whittingham   \n",
       "3             5.4        23   2005-04-12         NaN     Bryan Gordon   \n",
       "4             5.0        23   2005-04-19         NaN     Greg Daniels   \n",
       "\n",
       "                                            writers  has_guests  \\\n",
       "0  Ricky Gervais |Stephen Merchant and Greg Daniels       False   \n",
       "1                                       B. J. Novak       False   \n",
       "2                                  Paul Lieberstein       False   \n",
       "3                                     Michael Schur       False   \n",
       "4                                      Greg Daniels       False   \n",
       "\n",
       "   scaled_ratings  sizes      colors  \n",
       "0         0.28125     25      orange  \n",
       "1         0.53125     25  lightgreen  \n",
       "2         0.37500     25      orange  \n",
       "3         0.46875     25      orange  \n",
       "4         0.56250     25  lightgreen  "
      ]
     },
     "execution_count": 28,
     "metadata": {},
     "output_type": "execute_result"
    }
   ],
   "source": [
    "episodes['sizes']=size   #adding size list as a column to the dataset\n",
    "episodes.head()"
   ]
  },
  {
   "cell_type": "code",
   "execution_count": 53,
   "metadata": {},
   "outputs": [
    {
     "data": {
      "text/plain": [
       "(159, 29)"
      ]
     },
     "execution_count": 53,
     "metadata": {},
     "output_type": "execute_result"
    }
   ],
   "source": [
    "#filltering episodes with guests and non-guests\n",
    "non_guest=episodes[episodes['has_guests']==False] \n",
    "have_guest=episodes[episodes['has_guests']==True]\n",
    "non_guest.shape[0] , have_guest.shape[0] #getting the number of episodes with guests and with no guest"
   ]
  },
  {
   "cell_type": "code",
   "execution_count": 30,
   "metadata": {},
   "outputs": [
    {
     "data": {
      "image/png": "[encoded data removed]",
      "text/plain": [
       "<Figure size 792x504 with 1 Axes>"
      ]
     },
     "metadata": {
      "needs_background": "light"
     },
     "output_type": "display_data"
    }
   ],
   "source": [
    "fig = plt.figure() #instantiating the figure\n",
    "\n",
    "#creating a scatter plot for non-guest episodes\n",
    "plt.scatter(x=non_guest['episode_number'],y=non_guest['viewership_mil']\n",
    "           ,c=non_guest['colors']\n",
    "           , s= non_guest['sizes']); \n",
    "\n",
    "#creating a scatter plot for guest episodes\n",
    "plt.scatter(x=have_guest['episode_number'],y=have_guest['viewership_mil']\n",
    "           ,c=have_guest['colors']\n",
    "           , s= have_guest['sizes']\n",
    "           , marker='*');\n",
    "\n",
    "plt.xlabel(\"Episode Number\") #labeling x axis\n",
    "plt.ylabel(\"Viewership (Millions)\") #labeling y axis\n",
    "plt.title(\"Popularity, Quality, and Guest Appearances on the Office\") # titling the plot\n",
    "\n",
    "plt.show() #showing the plot \n",
    "\n"
   ]
  },
  {
   "cell_type": "code",
   "execution_count": 44,
   "metadata": {
    "scrolled": false
   },
   "outputs": [
    {
     "data": {
      "text/html": [
       "<div>\n",
       "<style scoped>\n",
       "    .dataframe tbody tr th:only-of-type {\n",
       "        vertical-align: middle;\n",
       "    }\n",
       "\n",
       "    .dataframe tbody tr th {\n",
       "        vertical-align: top;\n",
       "    }\n",
       "\n",
       "    .dataframe thead th {\n",
       "        text-align: right;\n",
       "    }\n",
       "</style>\n",
       "<table border=\"1\" class=\"dataframe\">\n",
       "  <thead>\n",
       "    <tr style=\"text-align: right;\">\n",
       "      <th></th>\n",
       "      <th>episode_title</th>\n",
       "      <th>viewership_mil</th>\n",
       "      <th>release_date</th>\n",
       "    </tr>\n",
       "  </thead>\n",
       "  <tbody>\n",
       "    <tr>\n",
       "      <th>77</th>\n",
       "      <td>Stress Relief</td>\n",
       "      <td>22.91</td>\n",
       "      <td>2009-02-01</td>\n",
       "    </tr>\n",
       "  </tbody>\n",
       "</table>\n",
       "</div>"
      ],
      "text/plain": [
       "    episode_title  viewership_mil release_date\n",
       "77  Stress Relief           22.91   2009-02-01"
      ]
     },
     "execution_count": 44,
     "metadata": {},
     "output_type": "execute_result"
    }
   ],
   "source": [
    "episodes[episodes['viewership_mil']==episodes['viewership_mil'].max()][['episode_title','viewership_mil','release_date']]"
   ]
  },
  {
   "cell_type": "code",
   "execution_count": 43,
   "metadata": {
    "dc": {
     "key": "4"
    },
    "scrolled": true
   },
   "outputs": [
    {
     "data": {
      "text/html": [
       "<div>\n",
       "<style scoped>\n",
       "    .dataframe tbody tr th:only-of-type {\n",
       "        vertical-align: middle;\n",
       "    }\n",
       "\n",
       "    .dataframe tbody tr th {\n",
       "        vertical-align: top;\n",
       "    }\n",
       "\n",
       "    .dataframe thead th {\n",
       "        text-align: right;\n",
       "    }\n",
       "</style>\n",
       "<table border=\"1\" class=\"dataframe\">\n",
       "  <thead>\n",
       "    <tr style=\"text-align: right;\">\n",
       "      <th></th>\n",
       "      <th>guest_stars</th>\n",
       "    </tr>\n",
       "  </thead>\n",
       "  <tbody>\n",
       "    <tr>\n",
       "      <th>77</th>\n",
       "      <td>Cloris Leachman, Jack Black, Jessica Alba</td>\n",
       "    </tr>\n",
       "  </tbody>\n",
       "</table>\n",
       "</div>"
      ],
      "text/plain": [
       "                                  guest_stars\n",
       "77  Cloris Leachman, Jack Black, Jessica Alba"
      ]
     },
     "execution_count": 43,
     "metadata": {},
     "output_type": "execute_result"
    }
   ],
   "source": [
    "#getting the guest stars of the most viewed episode\n",
    "max_episode_guests = episodes[episodes['viewership_mil']==episodes['viewership_mil'].max()]\n",
    "max_episode_guests[['guest_stars']]"
   ]
  },
  {
   "cell_type": "markdown",
   "metadata": {},
   "source": [
    "#### `conclusion` : we can see that first 50% of the episodes had the best views number and rating, and the last 50% of the episodes had the less views and the worst rating, but we have one episode the substantial amount of views and highest ratign, it was \"Stress Relief\" episode in Feb 2009, it had 22.91 million views"
   ]
  }
 ],
 "metadata": {
  "kernelspec": {
   "display_name": "Python 3 (ipykernel)",
   "language": "python",
   "name": "python3"
  },
  "language_info": {
   "codemirror_mode": {
    "name": "ipython",
    "version": 3
   },
   "file_extension": ".py",
   "mimetype": "text/x-python",
   "name": "python",
   "nbconvert_exporter": "python",
   "pygments_lexer": "ipython3",
   "version": "3.9.7"
  }
 },
 "nbformat": 4,
 "nbformat_minor": 4
}
